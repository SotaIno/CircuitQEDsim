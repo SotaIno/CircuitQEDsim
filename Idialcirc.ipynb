{
 "cells": [
  {
   "cell_type": "code",
   "execution_count": 19,
   "metadata": {},
   "outputs": [],
   "source": [
    "%matplotlib notebook\n",
    "import os\n",
    "import math\n",
    "import numpy as np\n",
    "import qutip as qt\n",
    "import scipy\n",
    "from scipy import constants\n",
    "from scipy import interpolate\n",
    "from scipy import integrate\n",
    "import sympy as sym\n",
    "from systemConst import ket,iniState1Qsys,iniState2Qsys,Tunabletransmon,QQ\n",
    "#from CZwave import CZpulse\n",
    "\n",
    "import matplotlib.pyplot as plt\n",
    "import sys\n",
    "import quantum_okiba as qo\n",
    "from tqdm import tqdm\n",
    "from qiskit import QuantumCircuit,visualization,Aer,execute\n",
    "from qiskit.quantum_info import average_gate_fidelity"
   ]
  },
  {
   "cell_type": "code",
   "execution_count": 20,
   "metadata": {},
   "outputs": [],
   "source": [
    "pi = np.pi\n",
    "e = constants.e # [C]\n",
    "h = constants.h # [m^2 kg/s]\n",
    "hbar = constants.hbar\n",
    "iDir = 'C:/Users/Sota/Scripts/TestKankyo/cQEDSim/core'\n",
    "opts = qt.solver.Options(nsteps=10000)"
   ]
  },
  {
   "cell_type": "code",
   "execution_count": 21,
   "metadata": {},
   "outputs": [
    {
     "output_type": "execute_result",
     "data": {
      "text/plain": [
       "          \n",
       "q_0: ─────\n",
       "     ┌───┐\n",
       "q_1: ┤ Z ├\n",
       "     └───┘"
      ],
      "text/html": "<pre style=\"word-wrap: normal;white-space: pre;background: #fff0;line-height: 1.1;font-family: &quot;Courier New&quot;,Courier,monospace\">          \nq_0: ─────\n     ┌───┐\nq_1: ┤ Z ├\n     └───┘</pre>"
     },
     "metadata": {},
     "execution_count": 21
    }
   ],
   "source": [
    "#回路を設計\n",
    "circ = QuantumCircuit(2)\n",
    "#circ.x(0)\n",
    "#circ.x(1)\n",
    "circ.z(1)\n",
    "circ.draw()"
   ]
  },
  {
   "cell_type": "code",
   "execution_count": 22,
   "metadata": {},
   "outputs": [
    {
     "output_type": "execute_result",
     "data": {
      "text/plain": [
       "Quantum object: dims = [[4], [1]], shape = (4, 1), type = ket\n",
       "Qobj data =\n",
       "[[1.]\n",
       " [0.]\n",
       " [0.]\n",
       " [0.]]"
      ],
      "text/latex": "Quantum object: dims = [[4], [1]], shape = (4, 1), type = ket\\begin{equation*}\\left(\\begin{array}{*{11}c}1.0\\\\0.0\\\\0.0\\\\0.0\\\\\\end{array}\\right)\\end{equation*}"
     },
     "metadata": {},
     "execution_count": 22
    }
   ],
   "source": [
    "#回路を実行1\n",
    "backend = Aer.get_backend('statevector_simulator')\n",
    "job = execute(circ, backend) #これでstatusとresultを得られる状態に\n",
    "\n",
    "result = job.result()\n",
    "outputstate = result.get_statevector(circ, decimals=3)\n",
    "qp=qt.Qobj(outputstate)\n",
    "qp"
   ]
  },
  {
   "cell_type": "code",
   "execution_count": 23,
   "metadata": {},
   "outputs": [
    {
     "output_type": "execute_result",
     "data": {
      "text/plain": [
       "Quantum object: dims = [[4], [4]], shape = (4, 4), type = oper, isherm = True\n",
       "Qobj data =\n",
       "[[ 1.  0.  0.  0.]\n",
       " [ 0.  1.  0.  0.]\n",
       " [ 0.  0. -1.  0.]\n",
       " [ 0.  0.  0. -1.]]"
      ],
      "text/latex": "Quantum object: dims = [[4], [4]], shape = (4, 4), type = oper, isherm = True\\begin{equation*}\\left(\\begin{array}{*{11}c}1.0 & 0.0 & 0.0 & 0.0\\\\0.0 & 1.0 & 0.0 & 0.0\\\\0.0 & 0.0 & -1.0 & 0.0\\\\0.0 & 0.0 & 0.0 & -1.0\\\\\\end{array}\\right)\\end{equation*}"
     },
     "metadata": {},
     "execution_count": 23
    }
   ],
   "source": [
    "backend = Aer.get_backend('unitary_simulator')\n",
    "job = execute(circ, backend) #これでstatusとresultを得られる状態に\n",
    "\n",
    "result = job.result()\n",
    "cz=qt.Qobj(result.get_unitary(circ, decimals=3))\n",
    "cz"
   ]
  },
  {
   "cell_type": "code",
   "execution_count": 24,
   "metadata": {},
   "outputs": [],
   "source": [
    "sp = qt.sigmap()\n",
    "sm = qt.sigmam()"
   ]
  },
  {
   "cell_type": "code",
   "execution_count": 25,
   "metadata": {},
   "outputs": [],
   "source": [
    "I2=qt.qeye(2)\n",
    "sI2=qt.operator_to_vector(I2)\n",
    "sI3=qt.vector_to_operator(sI2)"
   ]
  },
  {
   "cell_type": "code",
   "execution_count": 26,
   "metadata": {},
   "outputs": [],
   "source": [
    "from Matrice import evals,paulis_set,_tr,pY_N,pI_N,pX_N,pZ_N\n",
    "\n",
    "I=pI_N(3)\n",
    "#x=qt.sigmax()\n",
    "x=pX_N(3)\n",
    "#y=qt.sigmay()\n",
    "y=pY_N(3)\n",
    "#z=qt.sigmaz()\n",
    "z=pZ_N(3)\n",
    "\n",
    "paulis=paulis_set(3)"
   ]
  },
  {
   "cell_type": "code",
   "execution_count": 27,
   "metadata": {},
   "outputs": [
    {
     "output_type": "stream",
     "name": "stdout",
     "text": [
      "Quantum object: dims = [[2], [2]], shape = (2, 2), type = oper, isherm = True\n",
      "Qobj data =\n",
      "[[0. 0.]\n",
      " [0. 1.]]\n",
      "Quantum object: dims = [[2, 2], [2, 2]], shape = (4, 4), type = oper, isherm = True\n",
      "Qobj data =\n",
      "[[ 1.  0.  0.  0.]\n",
      " [ 0.  1.  0.  0.]\n",
      " [ 0.  0.  1.  0.]\n",
      " [ 0.  0.  0. -1.]]\n"
     ]
    }
   ],
   "source": [
    "r1=iniState1Qsys(2,1,mode='rho')\n",
    "print(r1)\n",
    "r2=qt.tensor(qt.qeye(2),qt.qeye(2))\n",
    "r3=qt.tensor(r1,r1)\n",
    "print(r2-2*r3)"
   ]
  }
 ],
 "metadata": {
  "kernelspec": {
   "display_name": "Python 3",
   "language": "python",
   "name": "python3"
  },
  "language_info": {
   "codemirror_mode": {
    "name": "ipython",
    "version": 3
   },
   "file_extension": ".py",
   "mimetype": "text/x-python",
   "name": "python",
   "nbconvert_exporter": "python",
   "pygments_lexer": "ipython3",
   "version": "3.7.3-final"
  }
 },
 "nbformat": 4,
 "nbformat_minor": 2
}