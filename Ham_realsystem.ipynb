{
 "cells": [
  {
   "cell_type": "code",
   "execution_count": 12,
   "metadata": {
    "ExecuteTime": {
     "end_time": "2019-04-13T06:53:45.263937Z",
     "start_time": "2019-04-13T06:53:44.514011Z"
    }
   },
   "outputs": [],
   "source": [
    "%matplotlib inline\n",
    "import qutip as qt\n",
    "import numpy as np\n",
    "import scipy\n",
    "from scipy import constants\n",
    "import itertools\n",
    "import math\n",
    "\n",
    "import matplotlib.pyplot as plt\n",
    "from tqdm import tqdm_notebook as tqdm\n",
    "from systemConst import Tunabletransmon,QQ,iniState1Qsys,iniState2Qsys\n",
    "from CZwave3 import CZpulse\n",
    "\n",
    "pi = np.pi\n",
    "e = constants.e\n",
    "h = constants.h\n",
    "hbar = constants.hbar\n",
    "ep0 = constants.epsilon_0\n",
    "mu0 = constants.mu_0\n",
    "opts = qt.solver.Options(nsteps=10000)"
   ]
  },
  {
   "cell_type": "code",
   "execution_count": 13,
   "metadata": {},
   "outputs": [],
   "source": [
    "#savepath = 'C:/Sota_Ino/Scripts/TestKankyo/cQEDSim/core/' #PC in TUS\n",
    "savepath = 'C:/Users/Sota/Scripts/TestKankyo/cQEDSim/core/'"
   ]
  },
  {
   "cell_type": "code",
   "execution_count": 14,
   "metadata": {
    "ExecuteTime": {
     "end_time": "2019-04-13T06:53:45.292833Z",
     "start_time": "2019-04-13T06:53:45.265830Z"
    },
    "code_folding": []
   },
   "outputs": [],
   "source": [
    "####### Hamiltonian term generators #######\n",
    "def ket(Nq, i):\n",
    "    return qt.basis(Nq, i)\n",
    "\n",
    "def jj(Nq, lv):\n",
    "    ket = qt.basis(Nq, lv)\n",
    "    return ket * ket.dag()\n",
    "\n",
    "def Delta_q(wqs:list, wd, j):\n",
    "    return wqs[j] - j * wd\n",
    "\n",
    "def Hq(Nq, wqs:list):\n",
    "    Hqs = 0\n",
    "    for i in range(Nq):\n",
    "        Hqs = Hqs + wqs[i] * jj(Nq, i)\n",
    "    return Hqs\n",
    "    \n",
    "def Hq_rot(Nq, wqs:list, wd):\n",
    "    Hqr = 0\n",
    "    for i in range(Nq):\n",
    "        D = Delta_q(wqs, wd, i)\n",
    "        Hqr = Hqr + D * jj(Nq, i)\n",
    "    return Hqr\n",
    "\n",
    "def _jj1(Nq, i):\n",
    "    # for taransmon's destroy operator\n",
    "    ket_low = qt.basis(Nq, i)\n",
    "    bra_high = qt.basis(Nq, i+1).dag()\n",
    "    return ket_low * bra_high\n",
    "\n",
    "def c(Nq):\n",
    "    # taransmon's destroy operator\n",
    "    cc = 0\n",
    "    for i in range(Nq-1):\n",
    "        cc = cc + np.sqrt(i + 1) * _jj1(Nq, i)\n",
    "    return cc"
   ]
  },
  {
   "cell_type": "markdown",
   "metadata": {},
   "source": [
    "## Parameters\n",
    "---"
   ]
  },
  {
   "cell_type": "code",
   "execution_count": 15,
   "metadata": {
    "ExecuteTime": {
     "end_time": "2019-04-13T06:53:45.342831Z",
     "start_time": "2019-04-13T06:53:45.326833Z"
    }
   },
   "outputs": [
    {
     "output_type": "stream",
     "name": "stdout",
     "text": [
      "5.584\n"
     ]
    }
   ],
   "source": [
    "###### qubit [GHz] ######\n",
    "Nq = 4\n",
    "Q1 = Tunabletransmon(f01=5.286,alpha=-0.318,Nq=3)\n",
    "Q2 = Tunabletransmon(f01=5.759,alpha=-0.298,Nq=3)\n",
    "wq1s=Q1.enes\n",
    "wq2s=Q2.enes\n",
    "fq1=wq1s[1]\n",
    "fq2=wq2s[1]\n",
    "\n",
    "J=0.015 #[GHz]\n",
    "QQ=QQ(Q1,Q2,J)\n",
    "print(fq1+abs(Q2.anh))"
   ]
  },
  {
   "cell_type": "markdown",
   "metadata": {},
   "source": [
    "## Hamiltonian assembling\n",
    "---"
   ]
  },
  {
   "cell_type": "code",
   "execution_count": 16,
   "metadata": {},
   "outputs": [
    {
     "output_type": "stream",
     "name": "stdout",
     "text": [
      "πΦ_1=4.58[mA]\n",
      "πΦ_2=2.65[mA]\n",
      "m11:0.686[Φ/mA]\n",
      "m22:1.186[Φ/mA]\n",
      "currentoffset1=0.150[mA]\n",
      "currentoffset2=0.105[mA]\n",
      "πΦ_12=6.60[mA]\n",
      "πΦ_21=6.68[mA]\n",
      "m11:0.686[Φ/mA]\n",
      "m22:1.186[Φ/mA]\n",
      "currentoffset1=0.150[mA]\n",
      "currentoffset2=0.105[mA]\n"
     ]
    }
   ],
   "source": [
    "#最近接バイアス\n",
    "Q1_m_I1 = -2.14 #Q1側のI1の下端\n",
    "Q1_p_I1 = 2.44  #Q1側のI1の上端\n",
    "Q2_m_I2 = -1.22 #Q2側のI2の下端\n",
    "Q2_p_I2 = 1.43  #Q2側のI2の上端\n",
    "\n",
    "#クロストーク\n",
    "Q1_m_I2 = -3.06\n",
    "Q1_p_I2 = 3.54\n",
    "Q2_m_I1 = -2.989\n",
    "Q2_p_I1 = 3.693\n",
    "\n",
    "pifluxquanta_1 = Q1_p_I1-Q1_m_I1\n",
    "pifluxquanta_2 = Q2_p_I2-Q2_m_I2\n",
    "m11 = pi/pifluxquanta_1\n",
    "m22 = pi/pifluxquanta_2\n",
    "currentoffset1 = (Q1_p_I1+Q1_m_I1)/2\n",
    "currentoffset2 = (Q2_p_I2+Q2_m_I2)/2\n",
    "\n",
    "print('πΦ_1={:.2f}[mA]'.format(pifluxquanta_1))\n",
    "print('πΦ_2={:.2f}[mA]'.format(pifluxquanta_2))\n",
    "print('m11:{:.3f}[Φ/mA]'.format(m11))\n",
    "print('m22:{:.3f}[Φ/mA]'.format(m22))\n",
    "print('currentoffset1={:.3f}[mA]'.format(currentoffset1))\n",
    "print('currentoffset2={:.3f}[mA]'.format(currentoffset2))\n",
    "\n",
    "pifluxquanta_1_2 = Q1_p_I2-Q1_m_I2\n",
    "pifluxquanta_2_1 = Q2_p_I1-Q2_m_I1\n",
    "m12 = pi/pifluxquanta_1_2\n",
    "m21 = pi/pifluxquanta_2_1\n",
    "currentoffset12 = (Q1_p_I1+Q1_m_I1)/2\n",
    "currentoffset21 = (Q2_p_I2+Q2_m_I2)/2\n",
    "\n",
    "print('πΦ_12={:.2f}[mA]'.format(pifluxquanta_1_2))\n",
    "print('πΦ_21={:.2f}[mA]'.format(pifluxquanta_2_1))\n",
    "print('m11:{:.3f}[Φ/mA]'.format(m11))\n",
    "print('m22:{:.3f}[Φ/mA]'.format(m22))\n",
    "print('currentoffset1={:.3f}[mA]'.format(currentoffset1))\n",
    "print('currentoffset2={:.3f}[mA]'.format(currentoffset2))"
   ]
  },
  {
   "cell_type": "code",
   "execution_count": 21,
   "metadata": {},
   "outputs": [
    {
     "output_type": "error",
     "ename": "NameError",
     "evalue": "name 'Nb1' is not defined",
     "traceback": [
      "\u001b[1;31m---------------------------------------------------------------------------\u001b[0m",
      "\u001b[1;31mNameError\u001b[0m                                 Traceback (most recent call last)",
      "\u001b[1;32m<ipython-input-21-77c9da51c70f>\u001b[0m in \u001b[0;36m<module>\u001b[1;34m\u001b[0m\n\u001b[0;32m     14\u001b[0m     \u001b[0mmag2\u001b[0m \u001b[1;33m=\u001b[0m \u001b[0mcur\u001b[0m \u001b[1;31m#1.186/pi*(cur-currentoffset2)\u001b[0m\u001b[1;33m\u001b[0m\u001b[1;33m\u001b[0m\u001b[0m\n\u001b[0;32m     15\u001b[0m     \u001b[0mQ2\u001b[0m \u001b[1;33m=\u001b[0m \u001b[0mTunabletransmon\u001b[0m\u001b[1;33m(\u001b[0m\u001b[0mf01\u001b[0m\u001b[1;33m=\u001b[0m\u001b[1;36m5.759\u001b[0m\u001b[1;33m,\u001b[0m\u001b[0malpha\u001b[0m\u001b[1;33m=\u001b[0m\u001b[1;33m-\u001b[0m\u001b[1;36m0.298\u001b[0m\u001b[1;33m,\u001b[0m\u001b[0mNq\u001b[0m\u001b[1;33m=\u001b[0m\u001b[1;36m3\u001b[0m\u001b[1;33m,\u001b[0m\u001b[0mphi\u001b[0m\u001b[1;33m=\u001b[0m\u001b[0mmag2\u001b[0m\u001b[1;33m)\u001b[0m\u001b[1;33m\u001b[0m\u001b[1;33m\u001b[0m\u001b[0m\n\u001b[1;32m---> 16\u001b[1;33m     \u001b[0mHq1\u001b[0m \u001b[1;33m=\u001b[0m \u001b[0mQ1\u001b[0m\u001b[1;33m.\u001b[0m\u001b[0mf01\u001b[0m \u001b[1;33m*\u001b[0m \u001b[0mNb1\u001b[0m \u001b[1;33m+\u001b[0m \u001b[0mduff_part1\u001b[0m\u001b[1;33m\u001b[0m\u001b[1;33m\u001b[0m\u001b[0m\n\u001b[0m\u001b[0;32m     17\u001b[0m     \u001b[0mHq2\u001b[0m \u001b[1;33m=\u001b[0m \u001b[0mQ2\u001b[0m\u001b[1;33m.\u001b[0m\u001b[0mf01\u001b[0m \u001b[1;33m*\u001b[0m \u001b[0mNb2\u001b[0m \u001b[1;33m+\u001b[0m \u001b[0mduff_part2\u001b[0m \u001b[1;31m#  - self.Iq2*0\u001b[0m\u001b[1;33m\u001b[0m\u001b[1;33m\u001b[0m\u001b[0m\n\u001b[0;32m     18\u001b[0m     \u001b[0mQQHam\u001b[0m\u001b[1;33m=\u001b[0m\u001b[0mHq1\u001b[0m \u001b[1;33m+\u001b[0m \u001b[0mHq2\u001b[0m \u001b[1;33m+\u001b[0m \u001b[0mHint\u001b[0m\u001b[1;33m\u001b[0m\u001b[1;33m\u001b[0m\u001b[0m\n",
      "\u001b[1;31mNameError\u001b[0m: name 'Nb1' is not defined"
     ]
    }
   ],
   "source": [
    "import japanize_matplotlib\n",
    "\n",
    "keys={0:['00','b'],1:['10','y'],2:['01','r'],3:['20','k'],4:['11','m'],5:['02','c'],6:['12','#a65628'],7:['21','#ff7f00']}\n",
    "currentoffset2 = 1.175 #[mA]\n",
    "current=np.linspace(currentoffset2-1,currentoffset2+1,101)\n",
    "#current = np.linspace(-0.7,0.7,141)\n",
    "enemap=np.zeros((Nq**2,len(current)))\n",
    "\n",
    "# Q2側のバイアスのみ動かす\n",
    "for k,cur in enumerate(current):\n",
    "    #mag1 = 0.476/pi*cur+fluxoffset1\n",
    "    mag1 = 0\n",
    "    mag2 = cur #1.186/pi*(cur-currentoffset2)\n",
    "    Q1 = Tunabletransmon(f01=5.284,alpha=-0.318,Nq=3,phi=0)\n",
    "    Q2 = Tunabletransmon(f01=5.759,alpha=-0.298,Nq=3,phi=mag2)\n",
    "    Hq1 = Q1.Hlab\n",
    "    Hq2 = Q2.Hlab #  - self.Iq2*0\n",
    "    QQHam=Hq1 + Hq2 + Hint\n",
    "    ene=np.array([QQHam.eigenenergies()])\n",
    "    enes=[ene[0][i] - ene[0][0] for i in range(len(ene[0]))]\n",
    "    for count in range(0,Nq**2):\n",
    "        enemap[count][k]=enes[count]\n",
    "            \n",
    "plt.figure()\n",
    "\"\"\"\n",
    "for count2 in range(0,Nq**2-1):\n",
    "    if keys[count2][0]=='20':\n",
    "        plt.plot(current,enemap[count2],label=keys[count2][0],color='g')\n",
    "    if keys[count2][0]=='11':\n",
    "        plt.plot(current,enemap[count2],label=keys[count2][0],color='red')\n",
    "    if keys[count2][0]=='02':\n",
    "        plt.plot(current,enemap[count2],label=keys[count2][0],color='purple')\n",
    "\"\"\"\n",
    "for count2 in range(0,Nq**2-1):\n",
    "    plt.plot(current,enemap[count2],label=keys[count2][0])\n",
    "\n",
    "#ene_sa = np.abs(ene10-ene01)\n",
    "#curr = current[np.argmin(ene_sa)]\n",
    "#print(curr)\n",
    "#plt.vlines(curr,0,10)\n",
    "#plt.xlim([0.0,0.2])\n",
    "#plt.ylim([10.2,11.1])\n",
    "plt.xlabel('電流バイアス[mA]',fontsize=18)\n",
    "plt.ylabel('周波数[GHz]',fontsize=20)\n",
    "plt.legend(loc='upper left',fontsize=15)\n",
    "#plt.yticks([10.4, 11],fontsize=20)\n",
    "#plt.xticks([0.0,0.05, 0.10, 0.15, 0.20],fontsize=20)\n",
    "plt.yticks(fontsize=20)\n",
    "plt.show()"
   ]
  },
  {
   "cell_type": "code",
   "execution_count": null,
   "metadata": {},
   "outputs": [],
   "source": []
  }
 ],
 "metadata": {
  "kernelspec": {
   "name": "python3",
   "display_name": "Python 3.7.3 64-bit (conda)",
   "metadata": {
    "interpreter": {
     "hash": "97ae724bfa85b9b34df7982b8bb8c7216f435b92902d749e4263f71162bea840"
    }
   }
  },
  "language_info": {
   "codemirror_mode": {
    "name": "ipython",
    "version": 3
   },
   "file_extension": ".py",
   "mimetype": "text/x-python",
   "name": "python",
   "nbconvert_exporter": "python",
   "pygments_lexer": "ipython3",
   "version": "3.7.3-final"
  },
  "toc": {
   "base_numbering": 1,
   "nav_menu": {},
   "number_sections": true,
   "sideBar": true,
   "skip_h1_title": false,
   "title_cell": "Table of Contents",
   "title_sidebar": "Contents",
   "toc_cell": false,
   "toc_position": {
    "height": "calc(100% - 180px)",
    "left": "10px",
    "top": "150px",
    "width": "230.397px"
   },
   "toc_section_display": true,
   "toc_window_display": true
  }
 },
 "nbformat": 4,
 "nbformat_minor": 2
}