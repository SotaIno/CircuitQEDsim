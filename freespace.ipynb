{
 "cells": [
  {
   "cell_type": "code",
   "execution_count": 65,
   "metadata": {
    "ExecuteTime": {
     "end_time": "2019-04-13T06:53:45.263937Z",
     "start_time": "2019-04-13T06:53:44.514011Z"
    }
   },
   "outputs": [],
   "source": [
    "%matplotlib inline\n",
    "import qutip as qt\n",
    "import numpy as np\n",
    "import scipy\n",
    "from scipy import constants\n",
    "import itertools\n",
    "import math\n",
    "\n",
    "import matplotlib.pyplot as plt\n",
    "from tqdm import tqdm_notebook as tqdm\n",
    "from systemConst import Tunabletransmon,QQ,iniState1Qsys,iniState2Qsys\n",
    "from CZwave2 import CZpulse\n",
    "\n",
    "pi = np.pi\n",
    "e = constants.e\n",
    "h = constants.h\n",
    "hbar = constants.hbar\n",
    "ep0 = constants.epsilon_0\n",
    "mu0 = constants.mu_0\n",
    "opts = qt.solver.Options(nsteps=10000)"
   ]
  },
  {
   "cell_type": "code",
   "execution_count": 66,
   "metadata": {
    "ExecuteTime": {
     "end_time": "2019-04-13T06:53:45.292833Z",
     "start_time": "2019-04-13T06:53:45.265830Z"
    },
    "code_folding": []
   },
   "outputs": [],
   "source": [
    "####### Hamiltonian term generators #######\n",
    "def ket(Nq, i):\n",
    "    return qt.basis(Nq, i)\n",
    "\n",
    "def jj(Nq, lv):\n",
    "    ket = qt.basis(Nq, lv)\n",
    "    return ket * ket.dag()\n",
    "\n",
    "def Delta_q(wqs:list, wd, j):\n",
    "    return wqs[j] - j * wd\n",
    "\n",
    "def Hq(Nq, wqs:list):\n",
    "    Hqs = 0\n",
    "    for i in range(Nq):\n",
    "        Hqs = Hqs + wqs[i] * jj(Nq, i)\n",
    "    return Hqs\n",
    "    \n",
    "def Hq_rot(Nq, wqs:list, wd):\n",
    "    Hqr = 0\n",
    "    for i in range(Nq):\n",
    "        D = Delta_q(wqs, wd, i)\n",
    "        Hqr = Hqr + D * jj(Nq, i)\n",
    "    return Hqr\n",
    "\n",
    "def _jj1(Nq, i):\n",
    "    # for taransmon's destroy operator\n",
    "    ket_low = qt.basis(Nq, i)\n",
    "    bra_high = qt.basis(Nq, i+1).dag()\n",
    "    return ket_low * bra_high\n",
    "\n",
    "def c(Nq):\n",
    "    # taransmon's destroy operator\n",
    "    cc = 0\n",
    "    for i in range(Nq-1):\n",
    "        cc = cc + np.sqrt(i + 1) * _jj1(Nq, i)\n",
    "    return cc\n",
    "\n",
    "######### N-level paulis #########\n",
    "def pI_N(Nq):\n",
    "    return ket(Nq, 0) * ket(Nq, 0).dag() + ket(Nq, 1) * ket(Nq, 1).dag()\n",
    "\n",
    "def pX_N(Nq):\n",
    "    return ket(Nq, 0) * ket(Nq, 1).dag() + ket(Nq, 1) * ket(Nq, 0).dag()\n",
    "\n",
    "def pY_N(Nq):\n",
    "    return 1j*ket(Nq, 0) * ket(Nq, 1).dag() - 1j*ket(Nq, 1) * ket(Nq, 0).dag()\n",
    "\n",
    "def pZ_N(Nq):\n",
    "    return ket(Nq, 0) * ket(Nq, 0).dag() - ket(Nq, 1) * ket(Nq, 1).dag()\n",
    "\n",
    "######### N-level Single qubit rotation #########\n",
    "def RX(theta, Nq, Nf):\n",
    "    x = pX_N(Nq) * (-1j*theta/2)\n",
    "    return qt.tensor(x.expm(), qt.qeye(Nf))\n",
    "\n",
    "def RY(theta, Nq, Nf):\n",
    "    y = pY_N(Nq) * (-1j*theta/2)\n",
    "    return qt.tensor(y.expm(), qt.qeye(Nf))\n",
    "\n",
    "def RZ(theta, Nq, Nf):\n",
    "    z = pZ_N(Nq) * (-1j*theta/2)\n",
    "    return qt.tensor(z.expm(), qt.qeye(Nf))\n",
    "\n",
    "####### Plot utility functions #######\n",
    "def evals(ini_state, props, e_ops):\n",
    "    # 与えられた演算子に対する期待値のリストを返す\n",
    "    \n",
    "    # 例 \n",
    "    # input : e_ops = [A, B, C] -> output : [[A-evals], [B-evals], [C-evals]] \n",
    "    \n",
    "    # ini_stateは密度行列で渡す\n",
    "    # propsは超演算子として渡す\n",
    "    # e_opsはリストで渡す\n",
    "    es = []\n",
    "    for i in range(len(e_ops)):\n",
    "        ee = []\n",
    "        for j in range(len(props)):\n",
    "            r = props[j] * qt.operator_to_vector(ini_state)\n",
    "            rr = qt.vector_to_operator(r)\n",
    "            e = qt.expect(e_ops[i], rr).real #qt.expect(ope,state)で期待値\n",
    "            ee.append(e)\n",
    "        es.append(ee)\n",
    "    return es\n",
    "\n",
    "def bloch(evals):\n",
    "    # ブロッホ球を描画するだけ\n",
    "    b = qt.Bloch()\n",
    "    \n",
    "    b.add_vectors([evals[0][0], evals[1][0], evals[2][0]])\n",
    "    b.add_vectors([evals[0][-1], evals[1][-1], evals[2][-1]])\n",
    "    b.add_points(evals, meth='l')\n",
    "    b.make_sphere()\n",
    "\n",
    "    b.show()\n",
    "\n",
    "    \n",
    "######## Calc. Propagator ######## ( wrapper of qutip.propagator() )\n",
    "def simple_prop(H, t_list, c_ops, p_args, mode, steps=10000):\n",
    "    # 散逸がある場合とない場合でqt.propagatorの返す形式が異なるので、その違いを吸収する。\n",
    "    # どちらの場合も超演算子形式で返すようにする。\n",
    "    if mode == 'sch':\n",
    "        _res = qt.propagator(H, t_list, c_ops=[], args=p_args, parallel=False, options=qt.Options(nsteps=steps))\n",
    "        res = []\n",
    "        for i in range(len(_res)):\n",
    "            sp = qt.to_super(_res[i])\n",
    "            res.append(sp)\n",
    "        res = np.array(res)\n",
    "    elif mode == 'lind':\n",
    "        res = qt.propagator(H, t_list, c_ops, args=p_args, parallel=False, options=qt.Options(nsteps=steps))\n",
    "    \n",
    "    return res"
   ]
  },
  {
   "cell_type": "markdown",
   "metadata": {},
   "source": [
    "## Fidelity utility\n",
    "---\n",
    "Ref : [Direct Fidelity Estimation from Few Pauli Measurements](https://journals.aps.org/prl/abstract/10.1103/PhysRevLett.106.230501)\n",
    "\n",
    "\\begin{align}\n",
    "    d &= 2^n, n : qubits \\\\\n",
    "    \\mathcal{U} &: ideal\\,channel,\\;\\; \\mathcal{E} : exp.\\,channel \\\\\n",
    "    \\chi_\\mathcal{U}(k, k') &= \\frac{1}{d}\\mathrm{Tr}[W_k \\mathcal{U}(W_k')] \\\\\n",
    "    X &= \\chi_\\mathcal{E}(k, k') / \\chi_\\mathcal{U}(k, k') \\\\\n",
    "    Pr(k,k') &= \\frac{1}{d^2}\\left[ \\chi_\\mathcal{U}(k, k') \\right]^2 \\\\\n",
    "    F_e &= {\\mathrm{Tr}[\\mathcal{U}^\\dagger \\mathcal{E}]}{d^2} \\\\\n",
    "    F_e &= expe.X = \\sum_{k, k'}X_{k, k'} Pr(k,k')\\\\\n",
    "    F_{avg} &= \\frac{d*F_e+1}{d+1}\n",
    "\\end{align}"
   ]
  },
  {
   "cell_type": "code",
   "execution_count": 67,
   "metadata": {
    "ExecuteTime": {
     "end_time": "2019-04-13T06:53:45.304834Z",
     "start_time": "2019-04-13T06:53:45.293831Z"
    },
    "code_folding": []
   },
   "outputs": [],
   "source": [
    "def paulis_set(Nq, n):\n",
    "    pauli = [pI_N(Nq), pX_N(Nq), pY_N(Nq), pZ_N(Nq)]\n",
    "    p_list = list(itertools.product(pauli, repeat=n))      \n",
    "    W_set = []\n",
    "    for k in range(len(p_list)):\n",
    "        ps = p_list[k]\n",
    "        w = ps[0]\n",
    "        for l in range(1, len(ps)):\n",
    "            w = qt.tensor(w, ps[l])\n",
    "        W_set.append(w)\n",
    "    return W_set\n",
    "\n",
    "#print(len(paulis_set(3,2))) =16\n",
    "\n",
    "# for Two qubit gates\n",
    "def _tr(Ope, p, q, paulis, Nq, n):\n",
    "    \n",
    "    Wp = paulis[p]\n",
    "    Wq = paulis[q]\n",
    "    Wq_vec = qt.operator_to_vector(Wq)\n",
    "    b = (Ope * Wq_vec)\n",
    "    c = qt.vector_to_operator(b)\n",
    "    a = Wp * c\n",
    "    mat = a.full()\n",
    "    return a.tr()\n",
    "\n",
    "def agf(Ope, target, Nq, n):\n",
    "    \n",
    "    d = 2**n\n",
    "    paulis = paulis_set(Nq, n)\n",
    "    eX = []\n",
    "    P = []\n",
    "    for p in range(len(paulis)):\n",
    "        for q in range(len(paulis)):\n",
    "            e = _tr(Ope, p, q, paulis, Nq, n)/d\n",
    "            u = _tr(target, p, q, paulis, Nq, n)/d\n",
    "            prb = (1/(d**2)) * u**2\n",
    "            P.append(prb)\n",
    "            if u != 0:\n",
    "                eX.append((e/u)*prb)\n",
    "            else:\n",
    "                eX.append(0)\n",
    "    Fe = np.sum(eX)\n",
    "    Fave = (d * Fe+1)/(d+1)\n",
    "    return Fave, Fe, np.sum(P)"
   ]
  },
  {
   "cell_type": "markdown",
   "metadata": {},
   "source": [
    "## Pulse shape\n",
    "---"
   ]
  },
  {
   "cell_type": "code",
   "execution_count": 68,
   "metadata": {
    "ExecuteTime": {
     "end_time": "2019-04-13T06:53:45.324864Z",
     "start_time": "2019-04-13T06:53:45.307832Z"
    },
    "code_folding": [
     0,
     14,
     32
    ]
   },
   "outputs": [],
   "source": [
    "def square(Tg, scale=1):\n",
    "    return np.ones(Tg) * scale\n",
    "\n",
    "def MW_shaped(t,args):\n",
    "    \n",
    "    amp = args['mwamp']\n",
    "    shape = args['shape'] \n",
    "    if int(t)>=len(shape):\n",
    "        n=len(shape)-1\n",
    "    else:\n",
    "        n=int(t)\n",
    "    return amp * shape[n]"
   ]
  },
  {
   "cell_type": "markdown",
   "metadata": {},
   "source": [
    "## Parameters\n",
    "---"
   ]
  },
  {
   "cell_type": "code",
   "execution_count": 69,
   "metadata": {
    "ExecuteTime": {
     "end_time": "2019-04-13T06:53:45.342831Z",
     "start_time": "2019-04-13T06:53:45.326833Z"
    }
   },
   "outputs": [
    {
     "output_type": "stream",
     "name": "stdout",
     "text": [
      "5.775981884960281\n",
      "6.611625529437035\n"
     ]
    }
   ],
   "source": [
    "# Q1\n",
    "Ej1 = 17\n",
    "Ec1 = 0.27\n",
    "# Q2\n",
    "Ej2 = 22\n",
    "Ec2 = 0.27\n",
    "\n",
    "###### qubit [GHz] ######\n",
    "Nq = 3\n",
    "Q1 = Tunabletransmon(EC=Ec1,EJmax=Ej1,Nq=Nq)\n",
    "Q2 = Tunabletransmon(EC=Ec2,EJmax=Ej2,Nq=Nq)\n",
    "wq1s=Q1.enes\n",
    "wq2s=Q2.enes\n",
    "fq1=wq1s[1]\n",
    "fq2=wq2s[1]\n",
    "print(fq1)\n",
    "print(fq2)\n",
    "\n",
    "J=0.015 #[GHz]\n",
    "QQ=QQ(Q1,Q2,J)\n",
    "pulsesystem=CZpulse(Q1,Q2,J,the_f=0.88,lambda2=0.13,gatetime=48)"
   ]
  },
  {
   "cell_type": "markdown",
   "metadata": {},
   "source": [
    "## Hamiltonian assembling\n",
    "---"
   ]
  },
  {
   "cell_type": "code",
   "execution_count": 70,
   "metadata": {
    "ExecuteTime": {
     "end_time": "2019-04-13T06:53:45.371827Z",
     "start_time": "2019-04-13T06:53:45.343837Z"
    }
   },
   "outputs": [
    {
     "output_type": "stream",
     "name": "stdout",
     "text": [
      "Quantum object: dims = [[3], [3]], shape = (3, 3), type = oper, isherm = True\n",
      "Qobj data =\n",
      "[[  0.           0.           0.        ]\n",
      " [  0.          -5.77598188   0.        ]\n",
      " [  0.           0.         -11.8512038 ]]\n"
     ]
    }
   ],
   "source": [
    "i = qt.qeye(2)\n",
    "x = qt.sigmax()\n",
    "y = qt.sigmay()\n",
    "z = qt.sigmaz()\n",
    "sp = qt.sigmap()\n",
    "sm = qt.sigmam()\n",
    "\n",
    "Iq1 = qt.qeye(Nq)\n",
    "Iq2 = qt.qeye(Nq)\n",
    "####### effective N-level pauli #######\n",
    "pI = pI_N(Nq)\n",
    "px = pX_N(Nq)\n",
    "py = pY_N(Nq)\n",
    "pz = pZ_N(Nq)\n",
    "\n",
    "X1 = qt.tensor(px, Iq2)\n",
    "Y1 = qt.tensor(py, Iq2)\n",
    "Z1 = qt.tensor(pz, Iq2)\n",
    "e_ops = [X1, Y1, Z1]\n",
    "\n",
    "###### Assembling Lab frame Hamiltonian ######\n",
    "# 2qubit-labframe\n",
    "c1 = c(Nq)\n",
    "C1 = qt.tensor(c1, Iq2)\n",
    "c2 = c(Nq)\n",
    "C2 = qt.tensor(Iq1,c2)\n",
    "\n",
    "Hq1_lab = qt.tensor(Hq_rot(Nq, wq1s, 0), Iq2)\n",
    "Hq2_lab = qt.tensor(Iq1,Hq_rot(Nq, wq2s, 0))\n",
    "Hint = QQ.Hint12\n",
    "Hlab = Hq1_lab + Hq2_lab + Hint\n",
    "\n",
    "#2qubit-rotatingframe\n",
    "#Hq1_rot = Hq1_lab\n",
    "Hq1_rot = qt.tensor(Hq_rot(Nq, wq1s, fq1), Iq2)\n",
    "rot2 = Hq_rot(Nq,[0,0,Q2.anh],fq1)\n",
    "print(rot2)\n",
    "q2Freqs = qt.qdiags(np.arange(0,Q2.Nq,1),0)\n",
    "Hq2_t_ind = qt.tensor(Iq1, rot2) #Hq2_rot(constant term)\n",
    "Hq2_t_dep = qt.tensor(Iq1, q2Freqs) #Hq2_rot(modulation term)\n",
    "H_rot = [Hq1_rot + Hq2_t_ind + Hint, [Hq2_t_dep, MW_shaped]]"
   ]
  },
  {
   "cell_type": "code",
   "execution_count": 71,
   "metadata": {},
   "outputs": [
    {
     "output_type": "execute_result",
     "data": {
      "text/plain": [
       "Quantum object: dims = [[3, 3], [3, 3]], shape = (9, 9), type = oper, isherm = True\n",
       "Qobj data =\n",
       "[[ 0.          0.          0.          0.          0.          0.\n",
       "   0.          0.          0.        ]\n",
       " [ 0.          0.29924003  0.          0.015       0.          0.\n",
       "   0.          0.          0.        ]\n",
       " [ 0.          0.          0.29924003  0.          0.0212132   0.\n",
       "   0.          0.          0.        ]\n",
       " [ 0.          0.015       0.          0.          0.          0.\n",
       "   0.          0.          0.        ]\n",
       " [ 0.          0.          0.0212132   0.          0.29924003  0.\n",
       "   0.0212132   0.          0.        ]\n",
       " [ 0.          0.          0.          0.          0.          0.29924003\n",
       "   0.          0.03        0.        ]\n",
       " [ 0.          0.          0.          0.          0.0212132   0.\n",
       "  -0.30445979  0.          0.        ]\n",
       " [ 0.          0.          0.          0.          0.          0.03\n",
       "   0.         -0.00521976  0.        ]\n",
       " [ 0.          0.          0.          0.          0.          0.\n",
       "   0.          0.         -0.00521976]]"
      ],
      "text/latex": "Quantum object: dims = [[3, 3], [3, 3]], shape = (9, 9), type = oper, isherm = True\\begin{equation*}\\left(\\begin{array}{*{11}c}0.0 & 0.0 & 0.0 & 0.0 & 0.0 & 0.0 & 0.0 & 0.0 & 0.0\\\\0.0 & 0.299 & 0.0 & 0.015 & 0.0 & 0.0 & 0.0 & 0.0 & 0.0\\\\0.0 & 0.0 & 0.299 & 0.0 & 0.021 & 0.0 & 0.0 & 0.0 & 0.0\\\\0.0 & 0.015 & 0.0 & 0.0 & 0.0 & 0.0 & 0.0 & 0.0 & 0.0\\\\0.0 & 0.0 & 0.021 & 0.0 & 0.299 & 0.0 & 0.021 & 0.0 & 0.0\\\\0.0 & 0.0 & 0.0 & 0.0 & 0.0 & 0.299 & 0.0 & 0.030 & 0.0\\\\0.0 & 0.0 & 0.0 & 0.0 & 0.021 & 0.0 & -0.304 & 0.0 & 0.0\\\\0.0 & 0.0 & 0.0 & 0.0 & 0.0 & 0.030 & 0.0 & -0.005 & 0.0\\\\0.0 & 0.0 & 0.0 & 0.0 & 0.0 & 0.0 & 0.0 & 0.0 & -0.005\\\\\\end{array}\\right)\\end{equation*}"
     },
     "metadata": {},
     "execution_count": 71
    }
   ],
   "source": [
    "initialH = Hq1_rot + Hq2_t_ind + Hint + Hq2_t_dep*pulsesystem.qFreq20\n",
    "initialH"
   ]
  },
  {
   "cell_type": "code",
   "execution_count": 72,
   "metadata": {},
   "outputs": [
    {
     "output_type": "execute_result",
     "data": {
      "text/plain": [
       "Quantum object: dims = [[3, 3], [3, 3]], shape = (9, 9), type = oper, isherm = True\n",
       "Qobj data =\n",
       "[[0.25 0.25 0.   0.25 0.25 0.   0.   0.   0.  ]\n",
       " [0.25 0.25 0.   0.25 0.25 0.   0.   0.   0.  ]\n",
       " [0.   0.   0.   0.   0.   0.   0.   0.   0.  ]\n",
       " [0.25 0.25 0.   0.25 0.25 0.   0.   0.   0.  ]\n",
       " [0.25 0.25 0.   0.25 0.25 0.   0.   0.   0.  ]\n",
       " [0.   0.   0.   0.   0.   0.   0.   0.   0.  ]\n",
       " [0.   0.   0.   0.   0.   0.   0.   0.   0.  ]\n",
       " [0.   0.   0.   0.   0.   0.   0.   0.   0.  ]\n",
       " [0.   0.   0.   0.   0.   0.   0.   0.   0.  ]]"
      ],
      "text/latex": "Quantum object: dims = [[3, 3], [3, 3]], shape = (9, 9), type = oper, isherm = True\\begin{equation*}\\left(\\begin{array}{*{11}c}0.250 & 0.250 & 0.0 & 0.250 & 0.250 & 0.0 & 0.0 & 0.0 & 0.0\\\\0.250 & 0.250 & 0.0 & 0.250 & 0.250 & 0.0 & 0.0 & 0.0 & 0.0\\\\0.0 & 0.0 & 0.0 & 0.0 & 0.0 & 0.0 & 0.0 & 0.0 & 0.0\\\\0.250 & 0.250 & 0.0 & 0.250 & 0.250 & 0.0 & 0.0 & 0.0 & 0.0\\\\0.250 & 0.250 & 0.0 & 0.250 & 0.250 & 0.0 & 0.0 & 0.0 & 0.0\\\\0.0 & 0.0 & 0.0 & 0.0 & 0.0 & 0.0 & 0.0 & 0.0 & 0.0\\\\0.0 & 0.0 & 0.0 & 0.0 & 0.0 & 0.0 & 0.0 & 0.0 & 0.0\\\\0.0 & 0.0 & 0.0 & 0.0 & 0.0 & 0.0 & 0.0 & 0.0 & 0.0\\\\0.0 & 0.0 & 0.0 & 0.0 & 0.0 & 0.0 & 0.0 & 0.0 & 0.0\\\\\\end{array}\\right)\\end{equation*}"
     },
     "metadata": {},
     "execution_count": 72
    }
   ],
   "source": [
    "ini_state=qt.tensor((px+pI)/2,(px+pI)/2)\n",
    "ini_state"
   ]
  },
  {
   "cell_type": "code",
   "execution_count": 73,
   "metadata": {
    "ExecuteTime": {
     "end_time": "2019-04-13T06:53:45.406832Z",
     "start_time": "2019-04-13T06:53:45.373829Z"
    }
   },
   "outputs": [
    {
     "output_type": "stream",
     "name": "stdout",
     "text": [
      "148\n"
     ]
    }
   ],
   "source": [
    "###### Gate time ######\n",
    "mwamp = pulsesystem.qFreq20\n",
    "Tg = int(pi/(np.sqrt(2)*pulsesystem.J))\n",
    "print(Tg)\n",
    "\n",
    "squ = square(Tg, scale=1)\n",
    "\n",
    "args = {'mwamp':mwamp, 'shape':squ}\n",
    "t_step = Tg\n",
    "t_list = np.linspace(0, Tg, Tg+1)"
   ]
  },
  {
   "cell_type": "code",
   "execution_count": 74,
   "metadata": {},
   "outputs": [],
   "source": [
    "# target Operator\n"
   ]
  },
  {
   "cell_type": "code",
   "execution_count": 75,
   "metadata": {
    "ExecuteTime": {
     "end_time": "2019-04-13T06:53:46.144873Z",
     "start_time": "2019-04-13T06:53:45.408832Z"
    }
   },
   "outputs": [
    {
     "output_type": "execute_result",
     "data": {
      "text/plain": [
       "Quantum object: dims = [[3, 3], [3, 3]], shape = (9, 9), type = oper, isherm = False\n",
       "Qobj data =\n",
       "[[ 1.        +0.00000000e+00j  0.        +0.00000000e+00j\n",
       "   0.        +0.00000000e+00j  0.        +0.00000000e+00j\n",
       "   0.        +0.00000000e+00j  0.        +0.00000000e+00j\n",
       "   0.        +0.00000000e+00j  0.        +0.00000000e+00j\n",
       "   0.        +0.00000000e+00j]\n",
       " [ 0.        +0.00000000e+00j  0.91484688-4.02963612e-01j\n",
       "   0.        +0.00000000e+00j -0.00395273-2.56866513e-02j\n",
       "   0.        +0.00000000e+00j  0.        +0.00000000e+00j\n",
       "   0.        +0.00000000e+00j  0.        +0.00000000e+00j\n",
       "   0.        +0.00000000e+00j]\n",
       " [ 0.        +0.00000000e+00j  0.        +0.00000000e+00j\n",
       "  -0.93576055+3.52613997e-01j  0.        +0.00000000e+00j\n",
       "  -0.00126789-3.33823312e-03j  0.        +0.00000000e+00j\n",
       "   0.00157007+5.91795266e-04j  0.        +0.00000000e+00j\n",
       "   0.        +0.00000000e+00j]\n",
       " [ 0.        +0.00000000e+00j -0.00395296-2.56881482e-02j\n",
       "   0.        +0.00000000e+00j  0.99364792+1.09491498e-01j\n",
       "   0.        +0.00000000e+00j  0.        +0.00000000e+00j\n",
       "   0.        +0.00000000e+00j  0.        +0.00000000e+00j\n",
       "   0.        +0.00000000e+00j]\n",
       " [ 0.        +0.00000000e+00j  0.        +0.00000000e+00j\n",
       "  -0.00126788-3.33822905e-03j  0.        +0.00000000e+00j\n",
       "  -0.93419162+3.53206223e-01j  0.        +0.00000000e+00j\n",
       "  -0.04594988-2.01799463e-02j  0.        +0.00000000e+00j\n",
       "   0.        +0.00000000e+00j]\n",
       " [ 0.        +0.00000000e+00j  0.        +0.00000000e+00j\n",
       "   0.        +0.00000000e+00j  0.        +0.00000000e+00j\n",
       "   0.        +0.00000000e+00j  0.7358838 -6.57996994e-01j\n",
       "   0.        +0.00000000e+00j  0.03698351-1.55383730e-01j\n",
       "   0.        +0.00000000e+00j]\n",
       " [ 0.        +0.00000000e+00j  0.        +0.00000000e+00j\n",
       "   0.00157006+5.91794639e-04j  0.        +0.00000000e+00j\n",
       "  -0.04594989-2.01799496e-02j  0.        +0.00000000e+00j\n",
       "   0.37191149+9.26909061e-01j  0.        +0.00000000e+00j\n",
       "   0.        +0.00000000e+00j]\n",
       " [ 0.        +0.00000000e+00j  0.        +0.00000000e+00j\n",
       "   0.        +0.00000000e+00j  0.        +0.00000000e+00j\n",
       "   0.        +0.00000000e+00j  0.03698576-1.55393180e-01j\n",
       "   0.        +0.00000000e+00j  0.36050599+9.18979623e-01j\n",
       "   0.        +0.00000000e+00j]\n",
       " [ 0.        +0.00000000e+00j  0.        +0.00000000e+00j\n",
       "   0.        +0.00000000e+00j  0.        +0.00000000e+00j\n",
       "   0.        +0.00000000e+00j  0.        +0.00000000e+00j\n",
       "   0.        +0.00000000e+00j  0.        +0.00000000e+00j\n",
       "   0.71615131+6.97945057e-01j]]"
      ],
      "text/latex": "Quantum object: dims = [[3, 3], [3, 3]], shape = (9, 9), type = oper, isherm = False\\begin{equation*}\\left(\\begin{array}{*{11}c}1.0 & 0.0 & 0.0 & 0.0 & 0.0 & 0.0 & 0.0 & 0.0 & 0.0\\\\0.0 & (0.915-0.403j) & 0.0 & (-0.004-0.026j) & 0.0 & 0.0 & 0.0 & 0.0 & 0.0\\\\0.0 & 0.0 & (-0.936+0.353j) & 0.0 & (-0.001-0.003j) & 0.0 & (0.002+5.918\\times10^{-04}j) & 0.0 & 0.0\\\\0.0 & (-0.004-0.026j) & 0.0 & (0.994+0.109j) & 0.0 & 0.0 & 0.0 & 0.0 & 0.0\\\\0.0 & 0.0 & (-0.001-0.003j) & 0.0 & (-0.934+0.353j) & 0.0 & (-0.046-0.020j) & 0.0 & 0.0\\\\0.0 & 0.0 & 0.0 & 0.0 & 0.0 & (0.736-0.658j) & 0.0 & (0.037-0.155j) & 0.0\\\\0.0 & 0.0 & (0.002+5.918\\times10^{-04}j) & 0.0 & (-0.046-0.020j) & 0.0 & (0.372+0.927j) & 0.0 & 0.0\\\\0.0 & 0.0 & 0.0 & 0.0 & 0.0 & (0.037-0.155j) & 0.0 & (0.361+0.919j) & 0.0\\\\0.0 & 0.0 & 0.0 & 0.0 & 0.0 & 0.0 & 0.0 & 0.0 & (0.716+0.698j)\\\\\\end{array}\\right)\\end{equation*}"
     },
     "metadata": {},
     "execution_count": 75
    }
   ],
   "source": [
    "_res = qt.mesolve(H_rot, ini_state, t_list, e_ops=[], args=args, options=opts, progress_bar=None)\n",
    "#res = simple_prop(H_rot, t_list, [], args, 'sch')\n",
    "res = qt.propagator(H_rot, t_list,[],args, parallel=False, options=qt.Options(nsteps=1000))\n",
    "res[-1]"
   ]
  },
  {
   "cell_type": "code",
   "execution_count": 76,
   "metadata": {},
   "outputs": [],
   "source": [
    "zerostate=iniState1Qsys(2,0,'rho')\n",
    "onestate=iniState1Qsys(2,1,'rho')\n",
    "\n",
    "zerozero=qt.tensor(zerostate,zerostate)\n",
    "zeroone=qt.tensor(zerostate,onestate)\n",
    "onezero=qt.tensor(onestate,zerostate)\n",
    "oneone=qt.tensor(onestate,onestate)"
   ]
  },
  {
   "cell_type": "code",
   "execution_count": 77,
   "metadata": {},
   "outputs": [
    {
     "output_type": "execute_result",
     "data": {
      "text/plain": [
       "Quantum object: dims = [[3, 3], [3, 3]], shape = (9, 9), type = oper, isherm = False\n",
       "Qobj data =\n",
       "[[ 1.        +0.j          0.        +0.j          0.        +0.j\n",
       "   0.        +0.j          0.        +0.j          0.        +0.j\n",
       "   0.        +0.j          0.        +0.j          0.        +0.j        ]\n",
       " [ 0.        +0.j          0.91484688-0.40296361j  0.        +0.j\n",
       "  -0.00395273-0.02568665j  0.        +0.j          0.        +0.j\n",
       "   0.        +0.j          0.        +0.j          0.        +0.j        ]\n",
       " [ 0.        +0.j          0.        +0.j          0.        +0.j\n",
       "   0.        +0.j          0.        +0.j          0.        +0.j\n",
       "   0.        +0.j          0.        +0.j          0.        +0.j        ]\n",
       " [ 0.        +0.j         -0.00395296-0.02568815j  0.        +0.j\n",
       "   0.99364792+0.1094915j   0.        +0.j          0.        +0.j\n",
       "   0.        +0.j          0.        +0.j          0.        +0.j        ]\n",
       " [ 0.        +0.j          0.        +0.j          0.        +0.j\n",
       "   0.        +0.j         -0.93419162+0.35320622j  0.        +0.j\n",
       "   0.        +0.j          0.        +0.j          0.        +0.j        ]\n",
       " [ 0.        +0.j          0.        +0.j          0.        +0.j\n",
       "   0.        +0.j          0.        +0.j          0.        +0.j\n",
       "   0.        +0.j          0.        +0.j          0.        +0.j        ]\n",
       " [ 0.        +0.j          0.        +0.j          0.        +0.j\n",
       "   0.        +0.j          0.        +0.j          0.        +0.j\n",
       "   0.        +0.j          0.        +0.j          0.        +0.j        ]\n",
       " [ 0.        +0.j          0.        +0.j          0.        +0.j\n",
       "   0.        +0.j          0.        +0.j          0.        +0.j\n",
       "   0.        +0.j          0.        +0.j          0.        +0.j        ]\n",
       " [ 0.        +0.j          0.        +0.j          0.        +0.j\n",
       "   0.        +0.j          0.        +0.j          0.        +0.j\n",
       "   0.        +0.j          0.        +0.j          0.        +0.j        ]]"
      ],
      "text/latex": "Quantum object: dims = [[3, 3], [3, 3]], shape = (9, 9), type = oper, isherm = False\\begin{equation*}\\left(\\begin{array}{*{11}c}1.0 & 0.0 & 0.0 & 0.0 & 0.0 & 0.0 & 0.0 & 0.0 & 0.0\\\\0.0 & (0.915-0.403j) & 0.0 & (-0.004-0.026j) & 0.0 & 0.0 & 0.0 & 0.0 & 0.0\\\\0.0 & 0.0 & 0.0 & 0.0 & 0.0 & 0.0 & 0.0 & 0.0 & 0.0\\\\0.0 & (-0.004-0.026j) & 0.0 & (0.994+0.109j) & 0.0 & 0.0 & 0.0 & 0.0 & 0.0\\\\0.0 & 0.0 & 0.0 & 0.0 & (-0.934+0.353j) & 0.0 & 0.0 & 0.0 & 0.0\\\\0.0 & 0.0 & 0.0 & 0.0 & 0.0 & 0.0 & 0.0 & 0.0 & 0.0\\\\0.0 & 0.0 & 0.0 & 0.0 & 0.0 & 0.0 & 0.0 & 0.0 & 0.0\\\\0.0 & 0.0 & 0.0 & 0.0 & 0.0 & 0.0 & 0.0 & 0.0 & 0.0\\\\0.0 & 0.0 & 0.0 & 0.0 & 0.0 & 0.0 & 0.0 & 0.0 & 0.0\\\\\\end{array}\\right)\\end{equation*}"
     },
     "metadata": {},
     "execution_count": 77
    }
   ],
   "source": [
    "qproj = qt.qdiags([1 if i<2 else 0 for i in range(Nq)],0)\n",
    "proj=qt.tensor(qproj,qproj)\n",
    "Projected_prop=proj.dag()*res[-1]*proj\n",
    "Projected_prop"
   ]
  },
  {
   "cell_type": "code",
   "execution_count": 78,
   "metadata": {},
   "outputs": [
    {
     "output_type": "execute_result",
     "data": {
      "text/plain": [
       "Quantum object: dims = [[3, 3], [3, 3]], shape = (9, 9), type = oper, isherm = True\n",
       "Qobj data =\n",
       "[[ 1.  0.  0.  0.  0.  0.  0.  0.  0.]\n",
       " [ 0.  1.  0.  0.  0.  0.  0.  0.  0.]\n",
       " [ 0.  0.  0.  0.  0.  0.  0.  0.  0.]\n",
       " [ 0.  0.  0.  1.  0.  0.  0.  0.  0.]\n",
       " [ 0.  0.  0.  0. -1.  0.  0.  0.  0.]\n",
       " [ 0.  0.  0.  0.  0.  0.  0.  0.  0.]\n",
       " [ 0.  0.  0.  0.  0.  0.  0.  0.  0.]\n",
       " [ 0.  0.  0.  0.  0.  0.  0.  0.  0.]\n",
       " [ 0.  0.  0.  0.  0.  0.  0.  0.  0.]]"
      ],
      "text/latex": "Quantum object: dims = [[3, 3], [3, 3]], shape = (9, 9), type = oper, isherm = True\\begin{equation*}\\left(\\begin{array}{*{11}c}1.0 & 0.0 & 0.0 & 0.0 & 0.0 & 0.0 & 0.0 & 0.0 & 0.0\\\\0.0 & 1.0 & 0.0 & 0.0 & 0.0 & 0.0 & 0.0 & 0.0 & 0.0\\\\0.0 & 0.0 & 0.0 & 0.0 & 0.0 & 0.0 & 0.0 & 0.0 & 0.0\\\\0.0 & 0.0 & 0.0 & 1.0 & 0.0 & 0.0 & 0.0 & 0.0 & 0.0\\\\0.0 & 0.0 & 0.0 & 0.0 & -1.0 & 0.0 & 0.0 & 0.0 & 0.0\\\\0.0 & 0.0 & 0.0 & 0.0 & 0.0 & 0.0 & 0.0 & 0.0 & 0.0\\\\0.0 & 0.0 & 0.0 & 0.0 & 0.0 & 0.0 & 0.0 & 0.0 & 0.0\\\\0.0 & 0.0 & 0.0 & 0.0 & 0.0 & 0.0 & 0.0 & 0.0 & 0.0\\\\0.0 & 0.0 & 0.0 & 0.0 & 0.0 & 0.0 & 0.0 & 0.0 & 0.0\\\\\\end{array}\\right)\\end{equation*}"
     },
     "metadata": {},
     "execution_count": 78
    }
   ],
   "source": [
    "kb11q = qt.basis(Nq,1)* qt.basis(Nq,1).dag()\n",
    "ops = [kb11q, kb11q]\n",
    "proj-2*qt.tensor(ops)"
   ]
  }
 ],
 "metadata": {
  "kernelspec": {
   "display_name": "Python 3.7.3 64-bit (virtualenv)",
   "language": "python",
   "name": "python37364bitvirtualenv3c9338f9095349a7a1cec122b730e45d"
  },
  "language_info": {
   "codemirror_mode": {
    "name": "ipython",
    "version": 3
   },
   "file_extension": ".py",
   "mimetype": "text/x-python",
   "name": "python",
   "nbconvert_exporter": "python",
   "pygments_lexer": "ipython3",
   "version": "3.7.3-final"
  },
  "toc": {
   "base_numbering": 1,
   "nav_menu": {},
   "number_sections": true,
   "sideBar": true,
   "skip_h1_title": false,
   "title_cell": "Table of Contents",
   "title_sidebar": "Contents",
   "toc_cell": false,
   "toc_position": {
    "height": "calc(100% - 180px)",
    "left": "10px",
    "top": "150px",
    "width": "230.397px"
   },
   "toc_section_display": true,
   "toc_window_display": true
  }
 },
 "nbformat": 4,
 "nbformat_minor": 2
}